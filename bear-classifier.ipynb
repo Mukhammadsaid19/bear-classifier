{
  "nbformat": 4,
  "nbformat_minor": 0,
  "metadata": {
    "colab": {
      "name": "Untitled6.ipynb",
      "provenance": [],
      "collapsed_sections": [],
      "authorship_tag": "ABX9TyMpi7oL9Rkc3jg4IPkQIX3K",
      "include_colab_link": true
    },
    "kernelspec": {
      "name": "python3",
      "display_name": "Python 3"
    },
    "language_info": {
      "name": "python"
    },
    "widgets": {
      "application/vnd.jupyter.widget-state+json": {
        "62fe6e8c2e584700895819c098f388e6": {
          "model_module": "@jupyter-widgets/controls",
          "model_name": "FileUploadModel",
          "model_module_version": "1.5.0",
          "state": {
            "_view_name": "FileUploadView",
            "_counter": 0,
            "style": "IPY_MODEL_bab9d0eb2c434158aa1e232d19521337",
            "_dom_classes": [],
            "description": "Upload",
            "multiple": false,
            "_model_name": "FileUploadModel",
            "data": [],
            "button_style": "",
            "_view_module": "@jupyter-widgets/controls",
            "_model_module_version": "1.5.0",
            "accept": "",
            "_view_count": null,
            "disabled": false,
            "_view_module_version": "1.5.0",
            "error": "",
            "description_tooltip": null,
            "metadata": [],
            "_model_module": "@jupyter-widgets/controls",
            "layout": "IPY_MODEL_3aac60a2c3ba49d89470bc1854040976",
            "icon": "upload"
          }
        },
        "bab9d0eb2c434158aa1e232d19521337": {
          "model_module": "@jupyter-widgets/controls",
          "model_name": "ButtonStyleModel",
          "model_module_version": "1.5.0",
          "state": {
            "_view_name": "StyleView",
            "_model_name": "ButtonStyleModel",
            "_view_module": "@jupyter-widgets/base",
            "_model_module_version": "1.5.0",
            "_view_count": null,
            "button_color": null,
            "font_weight": "",
            "_view_module_version": "1.2.0",
            "_model_module": "@jupyter-widgets/controls"
          }
        },
        "3aac60a2c3ba49d89470bc1854040976": {
          "model_module": "@jupyter-widgets/base",
          "model_name": "LayoutModel",
          "model_module_version": "1.2.0",
          "state": {
            "_view_name": "LayoutView",
            "grid_template_rows": null,
            "right": null,
            "justify_content": null,
            "_view_module": "@jupyter-widgets/base",
            "overflow": null,
            "_model_module_version": "1.2.0",
            "_view_count": null,
            "flex_flow": null,
            "width": null,
            "min_width": null,
            "border": null,
            "align_items": null,
            "bottom": null,
            "_model_module": "@jupyter-widgets/base",
            "top": null,
            "grid_column": null,
            "overflow_y": null,
            "overflow_x": null,
            "grid_auto_flow": null,
            "grid_area": null,
            "grid_template_columns": null,
            "flex": null,
            "_model_name": "LayoutModel",
            "justify_items": null,
            "grid_row": null,
            "max_height": null,
            "align_content": null,
            "visibility": null,
            "align_self": null,
            "height": null,
            "min_height": null,
            "padding": null,
            "grid_auto_rows": null,
            "grid_gap": null,
            "max_width": null,
            "order": null,
            "_view_module_version": "1.2.0",
            "grid_template_areas": null,
            "object_position": null,
            "object_fit": null,
            "grid_auto_columns": null,
            "margin": null,
            "display": null,
            "left": null
          }
        },
        "6a2ad3c2c7884c0c9bce1d1f876f7b7b": {
          "model_module": "@jupyter-widgets/controls",
          "model_name": "ButtonModel",
          "model_module_version": "1.5.0",
          "state": {
            "_view_name": "ButtonView",
            "style": "IPY_MODEL_9aae1a7c209741a4be09d82f8cc5d79a",
            "_dom_classes": [],
            "description": "Classify",
            "_model_name": "ButtonModel",
            "button_style": "",
            "_view_module": "@jupyter-widgets/controls",
            "_model_module_version": "1.5.0",
            "tooltip": "",
            "_view_count": null,
            "disabled": false,
            "_view_module_version": "1.5.0",
            "layout": "IPY_MODEL_7d7e5340cd02407786037c7ae82f9e2c",
            "_model_module": "@jupyter-widgets/controls",
            "icon": ""
          }
        },
        "9aae1a7c209741a4be09d82f8cc5d79a": {
          "model_module": "@jupyter-widgets/controls",
          "model_name": "ButtonStyleModel",
          "model_module_version": "1.5.0",
          "state": {
            "_view_name": "StyleView",
            "_model_name": "ButtonStyleModel",
            "_view_module": "@jupyter-widgets/base",
            "_model_module_version": "1.5.0",
            "_view_count": null,
            "button_color": null,
            "font_weight": "",
            "_view_module_version": "1.2.0",
            "_model_module": "@jupyter-widgets/controls"
          }
        },
        "7d7e5340cd02407786037c7ae82f9e2c": {
          "model_module": "@jupyter-widgets/base",
          "model_name": "LayoutModel",
          "model_module_version": "1.2.0",
          "state": {
            "_view_name": "LayoutView",
            "grid_template_rows": null,
            "right": null,
            "justify_content": null,
            "_view_module": "@jupyter-widgets/base",
            "overflow": null,
            "_model_module_version": "1.2.0",
            "_view_count": null,
            "flex_flow": null,
            "width": null,
            "min_width": null,
            "border": null,
            "align_items": null,
            "bottom": null,
            "_model_module": "@jupyter-widgets/base",
            "top": null,
            "grid_column": null,
            "overflow_y": null,
            "overflow_x": null,
            "grid_auto_flow": null,
            "grid_area": null,
            "grid_template_columns": null,
            "flex": null,
            "_model_name": "LayoutModel",
            "justify_items": null,
            "grid_row": null,
            "max_height": null,
            "align_content": null,
            "visibility": null,
            "align_self": null,
            "height": null,
            "min_height": null,
            "padding": null,
            "grid_auto_rows": null,
            "grid_gap": null,
            "max_width": null,
            "order": null,
            "_view_module_version": "1.2.0",
            "grid_template_areas": null,
            "object_position": null,
            "object_fit": null,
            "grid_auto_columns": null,
            "margin": null,
            "display": null,
            "left": null
          }
        },
        "ddcacb2d94b14db7b6f83a8a349b00fb": {
          "model_module": "@jupyter-widgets/controls",
          "model_name": "VBoxModel",
          "model_module_version": "1.5.0",
          "state": {
            "_view_name": "VBoxView",
            "_dom_classes": [],
            "_model_name": "VBoxModel",
            "_view_module": "@jupyter-widgets/controls",
            "_model_module_version": "1.5.0",
            "_view_count": null,
            "_view_module_version": "1.5.0",
            "box_style": "",
            "layout": "IPY_MODEL_2b6f87e3ee844a8090939e42e4729b2a",
            "_model_module": "@jupyter-widgets/controls",
            "children": [
              "IPY_MODEL_fed8da4011c0496791732e569d5c596e",
              "IPY_MODEL_e4598d7021a5404697c70c09efbff753",
              "IPY_MODEL_6a2ad3c2c7884c0c9bce1d1f876f7b7b",
              "IPY_MODEL_9b439f23c8564406a868d759e6fc2375",
              "IPY_MODEL_bfdca36598af43d6831c627e43a8a89b"
            ]
          }
        },
        "2b6f87e3ee844a8090939e42e4729b2a": {
          "model_module": "@jupyter-widgets/base",
          "model_name": "LayoutModel",
          "model_module_version": "1.2.0",
          "state": {
            "_view_name": "LayoutView",
            "grid_template_rows": null,
            "right": null,
            "justify_content": null,
            "_view_module": "@jupyter-widgets/base",
            "overflow": null,
            "_model_module_version": "1.2.0",
            "_view_count": null,
            "flex_flow": null,
            "width": null,
            "min_width": null,
            "border": null,
            "align_items": null,
            "bottom": null,
            "_model_module": "@jupyter-widgets/base",
            "top": null,
            "grid_column": null,
            "overflow_y": null,
            "overflow_x": null,
            "grid_auto_flow": null,
            "grid_area": null,
            "grid_template_columns": null,
            "flex": null,
            "_model_name": "LayoutModel",
            "justify_items": null,
            "grid_row": null,
            "max_height": null,
            "align_content": null,
            "visibility": null,
            "align_self": null,
            "height": null,
            "min_height": null,
            "padding": null,
            "grid_auto_rows": null,
            "grid_gap": null,
            "max_width": null,
            "order": null,
            "_view_module_version": "1.2.0",
            "grid_template_areas": null,
            "object_position": null,
            "object_fit": null,
            "grid_auto_columns": null,
            "margin": null,
            "display": null,
            "left": null
          }
        },
        "fed8da4011c0496791732e569d5c596e": {
          "model_module": "@jupyter-widgets/controls",
          "model_name": "LabelModel",
          "model_module_version": "1.5.0",
          "state": {
            "_view_name": "LabelView",
            "style": "IPY_MODEL_51618191bd4541a584662a327e630bbf",
            "_dom_classes": [],
            "description": "",
            "_model_name": "LabelModel",
            "placeholder": "​",
            "_view_module": "@jupyter-widgets/controls",
            "_model_module_version": "1.5.0",
            "value": "Select your bear!",
            "_view_count": null,
            "_view_module_version": "1.5.0",
            "description_tooltip": null,
            "_model_module": "@jupyter-widgets/controls",
            "layout": "IPY_MODEL_143c647598ac40e7b401bc035d1f324d"
          }
        },
        "e4598d7021a5404697c70c09efbff753": {
          "model_module": "@jupyter-widgets/controls",
          "model_name": "FileUploadModel",
          "model_module_version": "1.5.0",
          "state": {
            "_view_name": "FileUploadView",
            "_counter": 1,
            "style": "IPY_MODEL_691f54895cce4fccaba43e7b69ae5364",
            "_dom_classes": [],
            "description": "Upload",
            "multiple": false,
            "_model_name": "FileUploadModel",
            "data": [
              null
            ],
            "button_style": "",
            "_view_module": "@jupyter-widgets/controls",
            "_model_module_version": "1.5.0",
            "accept": "",
            "_view_count": null,
            "disabled": false,
            "_view_module_version": "1.5.0",
            "error": "",
            "description_tooltip": null,
            "metadata": [
              {
                "name": "28502x.jpg",
                "type": "image/jpeg",
                "size": 494335,
                "lastModified": 1635312227913
              }
            ],
            "_model_module": "@jupyter-widgets/controls",
            "layout": "IPY_MODEL_116719f53e7740ac9cca3810eee25bb8",
            "icon": "upload"
          }
        },
        "9b439f23c8564406a868d759e6fc2375": {
          "model_module": "@jupyter-widgets/output",
          "model_name": "OutputModel",
          "model_module_version": "1.0.0",
          "state": {
            "_view_name": "OutputView",
            "msg_id": "",
            "_dom_classes": [],
            "_model_name": "OutputModel",
            "outputs": [
              {
                "output_type": "display_data",
                "data": {
                  "image/png": "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\n",
                  "text/plain": "<PIL.Image.Image image mode=RGB size=128x128 at 0x7F3BF62055D0>"
                },
                "metadata": {}
              }
            ],
            "_view_module": "@jupyter-widgets/output",
            "_model_module_version": "1.0.0",
            "_view_count": null,
            "_view_module_version": "1.0.0",
            "layout": "IPY_MODEL_f6a6da7bee814ad29555e569b617724b",
            "_model_module": "@jupyter-widgets/output"
          }
        },
        "bfdca36598af43d6831c627e43a8a89b": {
          "model_module": "@jupyter-widgets/controls",
          "model_name": "LabelModel",
          "model_module_version": "1.5.0",
          "state": {
            "_view_name": "LabelView",
            "style": "IPY_MODEL_460069b3c00b451ab9827b60ab6c78b4",
            "_dom_classes": [],
            "description": "",
            "_model_name": "LabelModel",
            "placeholder": "​",
            "_view_module": "@jupyter-widgets/controls",
            "_model_module_version": "1.5.0",
            "value": "Prediction: teddy; Probability: 1.0000",
            "_view_count": null,
            "_view_module_version": "1.5.0",
            "description_tooltip": null,
            "_model_module": "@jupyter-widgets/controls",
            "layout": "IPY_MODEL_b05b3af285a0466cbef84e3ad334e6ae"
          }
        },
        "51618191bd4541a584662a327e630bbf": {
          "model_module": "@jupyter-widgets/controls",
          "model_name": "DescriptionStyleModel",
          "model_module_version": "1.5.0",
          "state": {
            "_view_name": "StyleView",
            "_model_name": "DescriptionStyleModel",
            "description_width": "",
            "_view_module": "@jupyter-widgets/base",
            "_model_module_version": "1.5.0",
            "_view_count": null,
            "_view_module_version": "1.2.0",
            "_model_module": "@jupyter-widgets/controls"
          }
        },
        "143c647598ac40e7b401bc035d1f324d": {
          "model_module": "@jupyter-widgets/base",
          "model_name": "LayoutModel",
          "model_module_version": "1.2.0",
          "state": {
            "_view_name": "LayoutView",
            "grid_template_rows": null,
            "right": null,
            "justify_content": null,
            "_view_module": "@jupyter-widgets/base",
            "overflow": null,
            "_model_module_version": "1.2.0",
            "_view_count": null,
            "flex_flow": null,
            "width": null,
            "min_width": null,
            "border": null,
            "align_items": null,
            "bottom": null,
            "_model_module": "@jupyter-widgets/base",
            "top": null,
            "grid_column": null,
            "overflow_y": null,
            "overflow_x": null,
            "grid_auto_flow": null,
            "grid_area": null,
            "grid_template_columns": null,
            "flex": null,
            "_model_name": "LayoutModel",
            "justify_items": null,
            "grid_row": null,
            "max_height": null,
            "align_content": null,
            "visibility": null,
            "align_self": null,
            "height": null,
            "min_height": null,
            "padding": null,
            "grid_auto_rows": null,
            "grid_gap": null,
            "max_width": null,
            "order": null,
            "_view_module_version": "1.2.0",
            "grid_template_areas": null,
            "object_position": null,
            "object_fit": null,
            "grid_auto_columns": null,
            "margin": null,
            "display": null,
            "left": null
          }
        },
        "691f54895cce4fccaba43e7b69ae5364": {
          "model_module": "@jupyter-widgets/controls",
          "model_name": "ButtonStyleModel",
          "model_module_version": "1.5.0",
          "state": {
            "_view_name": "StyleView",
            "_model_name": "ButtonStyleModel",
            "_view_module": "@jupyter-widgets/base",
            "_model_module_version": "1.5.0",
            "_view_count": null,
            "button_color": null,
            "font_weight": "",
            "_view_module_version": "1.2.0",
            "_model_module": "@jupyter-widgets/controls"
          }
        },
        "116719f53e7740ac9cca3810eee25bb8": {
          "model_module": "@jupyter-widgets/base",
          "model_name": "LayoutModel",
          "model_module_version": "1.2.0",
          "state": {
            "_view_name": "LayoutView",
            "grid_template_rows": null,
            "right": null,
            "justify_content": null,
            "_view_module": "@jupyter-widgets/base",
            "overflow": null,
            "_model_module_version": "1.2.0",
            "_view_count": null,
            "flex_flow": null,
            "width": null,
            "min_width": null,
            "border": null,
            "align_items": null,
            "bottom": null,
            "_model_module": "@jupyter-widgets/base",
            "top": null,
            "grid_column": null,
            "overflow_y": null,
            "overflow_x": null,
            "grid_auto_flow": null,
            "grid_area": null,
            "grid_template_columns": null,
            "flex": null,
            "_model_name": "LayoutModel",
            "justify_items": null,
            "grid_row": null,
            "max_height": null,
            "align_content": null,
            "visibility": null,
            "align_self": null,
            "height": null,
            "min_height": null,
            "padding": null,
            "grid_auto_rows": null,
            "grid_gap": null,
            "max_width": null,
            "order": null,
            "_view_module_version": "1.2.0",
            "grid_template_areas": null,
            "object_position": null,
            "object_fit": null,
            "grid_auto_columns": null,
            "margin": null,
            "display": null,
            "left": null
          }
        },
        "460069b3c00b451ab9827b60ab6c78b4": {
          "model_module": "@jupyter-widgets/controls",
          "model_name": "DescriptionStyleModel",
          "model_module_version": "1.5.0",
          "state": {
            "_view_name": "StyleView",
            "_model_name": "DescriptionStyleModel",
            "description_width": "",
            "_view_module": "@jupyter-widgets/base",
            "_model_module_version": "1.5.0",
            "_view_count": null,
            "_view_module_version": "1.2.0",
            "_model_module": "@jupyter-widgets/controls"
          }
        },
        "b05b3af285a0466cbef84e3ad334e6ae": {
          "model_module": "@jupyter-widgets/base",
          "model_name": "LayoutModel",
          "model_module_version": "1.2.0",
          "state": {
            "_view_name": "LayoutView",
            "grid_template_rows": null,
            "right": null,
            "justify_content": null,
            "_view_module": "@jupyter-widgets/base",
            "overflow": null,
            "_model_module_version": "1.2.0",
            "_view_count": null,
            "flex_flow": null,
            "width": null,
            "min_width": null,
            "border": null,
            "align_items": null,
            "bottom": null,
            "_model_module": "@jupyter-widgets/base",
            "top": null,
            "grid_column": null,
            "overflow_y": null,
            "overflow_x": null,
            "grid_auto_flow": null,
            "grid_area": null,
            "grid_template_columns": null,
            "flex": null,
            "_model_name": "LayoutModel",
            "justify_items": null,
            "grid_row": null,
            "max_height": null,
            "align_content": null,
            "visibility": null,
            "align_self": null,
            "height": null,
            "min_height": null,
            "padding": null,
            "grid_auto_rows": null,
            "grid_gap": null,
            "max_width": null,
            "order": null,
            "_view_module_version": "1.2.0",
            "grid_template_areas": null,
            "object_position": null,
            "object_fit": null,
            "grid_auto_columns": null,
            "margin": null,
            "display": null,
            "left": null
          }
        },
        "f6a6da7bee814ad29555e569b617724b": {
          "model_module": "@jupyter-widgets/base",
          "model_name": "LayoutModel",
          "model_module_version": "1.2.0",
          "state": {
            "_view_name": "LayoutView",
            "grid_template_rows": null,
            "right": null,
            "justify_content": null,
            "_view_module": "@jupyter-widgets/base",
            "overflow": null,
            "_model_module_version": "1.2.0",
            "_view_count": null,
            "flex_flow": null,
            "width": null,
            "min_width": null,
            "border": null,
            "align_items": null,
            "bottom": null,
            "_model_module": "@jupyter-widgets/base",
            "top": null,
            "grid_column": null,
            "overflow_y": null,
            "overflow_x": null,
            "grid_auto_flow": null,
            "grid_area": null,
            "grid_template_columns": null,
            "flex": null,
            "_model_name": "LayoutModel",
            "justify_items": null,
            "grid_row": null,
            "max_height": null,
            "align_content": null,
            "visibility": null,
            "align_self": null,
            "height": null,
            "min_height": null,
            "padding": null,
            "grid_auto_rows": null,
            "grid_gap": null,
            "max_width": null,
            "order": null,
            "_view_module_version": "1.2.0",
            "grid_template_areas": null,
            "object_position": null,
            "object_fit": null,
            "grid_auto_columns": null,
            "margin": null,
            "display": null,
            "left": null
          }
        }
      }
    }
  },
  "cells": [
    {
      "cell_type": "markdown",
      "metadata": {
        "id": "view-in-github",
        "colab_type": "text"
      },
      "source": [
        "<a href=\"https://colab.research.google.com/github/Mukhammadsaid19/bear-classifier/blob/main/bear-classifier.ipynb\" target=\"_parent\"><img src=\"https://colab.research.google.com/assets/colab-badge.svg\" alt=\"Open In Colab\"/></a>"
      ]
    },
    {
      "cell_type": "code",
      "metadata": {
        "colab": {
          "base_uri": "https://localhost:8080/"
        },
        "id": "gZSGiFFELkTc",
        "outputId": "2a7d3859-d47f-475e-85c6-e9b76358a6cc"
      },
      "source": [
        "#hide\n",
        "!pip install -Uqq fastbook\n",
        "import fastbook\n",
        "fastbook.setup_book()"
      ],
      "execution_count": null,
      "outputs": [
        {
          "output_type": "stream",
          "name": "stdout",
          "text": [
            "\u001b[K     |████████████████████████████████| 720 kB 5.0 MB/s \n",
            "\u001b[K     |████████████████████████████████| 1.2 MB 41.2 MB/s \n",
            "\u001b[K     |████████████████████████████████| 46 kB 4.0 MB/s \n",
            "\u001b[K     |████████████████████████████████| 189 kB 49.1 MB/s \n",
            "\u001b[K     |████████████████████████████████| 56 kB 3.4 MB/s \n",
            "\u001b[K     |████████████████████████████████| 51 kB 303 kB/s \n",
            "\u001b[K     |████████████████████████████████| 455 kB 73.2 MB/s \n",
            "\u001b[31mERROR: pip's dependency resolver does not currently take into account all the packages that are installed. This behaviour is the source of the following dependency conflicts.\n",
            "voila 0.2.16 requires nbconvert<7,>=6.0.0, but you have nbconvert 5.6.1 which is incompatible.\n",
            "google-colab 1.0.0 requires tornado~=5.1.0; python_version >= \"3.0\", but you have tornado 6.1 which is incompatible.\u001b[0m\n",
            "\u001b[?25hMounted at /content/gdrive\n"
          ]
        }
      ]
    },
    {
      "cell_type": "code",
      "metadata": {
        "id": "YcLUnx6zjIAq"
      },
      "source": [
        "#hide\n",
        "from fastbook import *\n",
        "from fastai.vision.widgets import *"
      ],
      "execution_count": null,
      "outputs": []
    },
    {
      "cell_type": "code",
      "metadata": {
        "id": "PVyi_6d1rizB"
      },
      "source": [
        "!pip install voila\n",
        "!jupyter serverextension enable --sys-prefix voila "
      ],
      "execution_count": null,
      "outputs": []
    },
    {
      "cell_type": "code",
      "metadata": {
        "colab": {
          "base_uri": "https://localhost:8080/",
          "height": 49,
          "referenced_widgets": [
            "62fe6e8c2e584700895819c098f388e6",
            "bab9d0eb2c434158aa1e232d19521337",
            "3aac60a2c3ba49d89470bc1854040976"
          ]
        },
        "id": "pi-eLdM9j363",
        "outputId": "9f573182-4a62-46c1-8cc1-2f5545aeaf57"
      },
      "source": [
        "#hide_output\n",
        "import ipywidgets as widgets\n",
        "btn_upload = widgets.FileUpload()\n",
        "btn_upload"
      ],
      "execution_count": null,
      "outputs": [
        {
          "output_type": "display_data",
          "data": {
            "application/vnd.jupyter.widget-view+json": {
              "model_id": "62fe6e8c2e584700895819c098f388e6",
              "version_minor": 0,
              "version_major": 2
            },
            "text/plain": [
              "FileUpload(value={}, description='Upload')"
            ]
          },
          "metadata": {}
        }
      ]
    },
    {
      "cell_type": "code",
      "metadata": {
        "colab": {
          "base_uri": "https://localhost:8080/"
        },
        "id": "JJd84UzElFm9",
        "outputId": "392e2d22-5704-4e96-f683-069e9a2f0320"
      },
      "source": [
        "path = Path()\n",
        "path.ls(file_exts='.pkl')\n"
      ],
      "execution_count": null,
      "outputs": [
        {
          "output_type": "execute_result",
          "data": {
            "text/plain": [
              "(#1) [Path('export.pkl')]"
            ]
          },
          "metadata": {},
          "execution_count": 13
        }
      ]
    },
    {
      "cell_type": "code",
      "metadata": {
        "id": "5muJCMRel0gw"
      },
      "source": [
        "learn_inf = load_learner(path/'export.pkl')"
      ],
      "execution_count": null,
      "outputs": []
    },
    {
      "cell_type": "code",
      "metadata": {
        "colab": {
          "base_uri": "https://localhost:8080/"
        },
        "id": "M2mQ_C3ZnFkg",
        "outputId": "46b9c0f0-211c-480d-8b10-a5e0e21d5108"
      },
      "source": [
        "learn_inf.dls.vocab"
      ],
      "execution_count": null,
      "outputs": [
        {
          "output_type": "execute_result",
          "data": {
            "text/plain": [
              "['black', 'grizzly', 'teddy']"
            ]
          },
          "metadata": {},
          "execution_count": 20
        }
      ]
    },
    {
      "cell_type": "markdown",
      "metadata": {
        "id": "8ofrE5lJnXTq"
      },
      "source": [
        "Bear definiton"
      ]
    },
    {
      "cell_type": "code",
      "metadata": {
        "id": "VlgYcg-Fngol"
      },
      "source": [
        "#hide_output\n",
        "out_pl = widgets.Output()\n",
        "out_pl.clear_output()"
      ],
      "execution_count": 39,
      "outputs": []
    },
    {
      "cell_type": "code",
      "metadata": {
        "id": "RnAZgsT_nkKt"
      },
      "source": [
        "#hide_output\n",
        "lbl_pred = widgets.Label()"
      ],
      "execution_count": 44,
      "outputs": []
    },
    {
      "cell_type": "code",
      "metadata": {
        "colab": {
          "base_uri": "https://localhost:8080/",
          "height": 49,
          "referenced_widgets": [
            "6a2ad3c2c7884c0c9bce1d1f876f7b7b",
            "9aae1a7c209741a4be09d82f8cc5d79a",
            "7d7e5340cd02407786037c7ae82f9e2c"
          ]
        },
        "id": "E7Et5-Cpnm3e",
        "outputId": "ee8b5920-5b7a-4637-ad2e-4b549ed3fcaf"
      },
      "source": [
        "#hide_output\n",
        "btn_run = widgets.Button(description='Classify')\n",
        "btn_run"
      ],
      "execution_count": 45,
      "outputs": [
        {
          "output_type": "display_data",
          "data": {
            "application/vnd.jupyter.widget-view+json": {
              "model_id": "6a2ad3c2c7884c0c9bce1d1f876f7b7b",
              "version_minor": 0,
              "version_major": 2
            },
            "text/plain": [
              "Button(description='Classify', style=ButtonStyle())"
            ]
          },
          "metadata": {}
        }
      ]
    },
    {
      "cell_type": "code",
      "metadata": {
        "id": "S2avm2Pcnp2Z"
      },
      "source": [
        "def on_click_classify(change):\n",
        "    img = PILImage.create(btn_upload.data[-1])\n",
        "    out_pl.clear_output()\n",
        "    with out_pl: display(img.to_thumb(128,128))\n",
        "    pred,pred_idx,probs = learn_inf.predict(img)\n",
        "    lbl_pred.value = f'Prediction: {pred}; Probability: {probs[pred_idx]:.04f}'\n",
        "\n",
        "btn_run.on_click(on_click_classify)"
      ],
      "execution_count": 46,
      "outputs": []
    },
    {
      "cell_type": "code",
      "metadata": {
        "id": "Q78_S_-ynr54"
      },
      "source": [
        "#hide\n",
        "#Putting back btn_upload to a widget for next cell\n",
        "btn_upload = widgets.FileUpload()"
      ],
      "execution_count": 47,
      "outputs": []
    },
    {
      "cell_type": "code",
      "metadata": {
        "id": "_WZ_XGj7ntvu",
        "colab": {
          "base_uri": "https://localhost:8080/",
          "height": 273,
          "referenced_widgets": [
            "ddcacb2d94b14db7b6f83a8a349b00fb",
            "2b6f87e3ee844a8090939e42e4729b2a",
            "fed8da4011c0496791732e569d5c596e",
            "e4598d7021a5404697c70c09efbff753",
            "6a2ad3c2c7884c0c9bce1d1f876f7b7b",
            "9b439f23c8564406a868d759e6fc2375",
            "bfdca36598af43d6831c627e43a8a89b",
            "51618191bd4541a584662a327e630bbf",
            "143c647598ac40e7b401bc035d1f324d",
            "691f54895cce4fccaba43e7b69ae5364",
            "116719f53e7740ac9cca3810eee25bb8",
            "9aae1a7c209741a4be09d82f8cc5d79a",
            "7d7e5340cd02407786037c7ae82f9e2c",
            "460069b3c00b451ab9827b60ab6c78b4",
            "b05b3af285a0466cbef84e3ad334e6ae",
            "f6a6da7bee814ad29555e569b617724b"
          ]
        },
        "outputId": "b3659403-377d-47b6-b668-1cdd31506a4a"
      },
      "source": [
        "#hide_output\n",
        "VBox([widgets.Label('Select your bear!'), \n",
        "      btn_upload, btn_run, out_pl, lbl_pred])"
      ],
      "execution_count": 48,
      "outputs": [
        {
          "output_type": "display_data",
          "data": {
            "application/vnd.jupyter.widget-view+json": {
              "model_id": "ddcacb2d94b14db7b6f83a8a349b00fb",
              "version_minor": 0,
              "version_major": 2
            },
            "text/plain": [
              "VBox(children=(Label(value='Select your bear!'), FileUpload(value={}, description='Upload'), Button(descriptio…"
            ]
          },
          "metadata": {}
        },
        {
          "output_type": "display_data",
          "data": {
            "text/html": [
              ""
            ],
            "text/plain": [
              "<IPython.core.display.HTML object>"
            ]
          },
          "metadata": {}
        }
      ]
    }
  ]
}